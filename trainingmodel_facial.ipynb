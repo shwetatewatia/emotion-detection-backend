{
 "cells": [
  {
   "cell_type": "code",
   "execution_count": 1,
   "metadata": {},
   "outputs": [
    {
     "name": "stdout",
     "output_type": "stream",
     "text": [
      "WARNING:tensorflow:From c:\\Users\\acer\\AppData\\Local\\Programs\\Python\\Python311\\Lib\\site-packages\\keras\\src\\losses.py:2976: The name tf.losses.sparse_softmax_cross_entropy is deprecated. Please use tf.compat.v1.losses.sparse_softmax_cross_entropy instead.\n",
      "\n"
     ]
    }
   ],
   "source": [
    "import numpy as np \n",
    "import pandas as pd \n",
    "import os\n",
    "\n",
    "import matplotlib.pyplot as plt\n",
    "import seaborn as sns\n",
    "import tensorflow as tf\n",
    "import cv2\n",
    "from tensorflow.keras.applications import VGG16, InceptionResNetV2\n",
    "from tensorflow.keras.optimizers import Adam,RMSprop,SGD,Adamax\n",
    "from tensorflow.keras.preprocessing.image import ImageDataGenerator\n",
    "import keras\n",
    "from keras.preprocessing import image\n",
    "from keras.models import Sequential\n",
    "from keras.layers import Conv2D, MaxPool2D, Flatten,Dense,Dropout,BatchNormalization\n",
    "\n",
    "import cv2\n",
    "\n",
    "from keras import regularizers\n"
   ]
  },
  {
   "cell_type": "code",
   "execution_count": 2,
   "metadata": {},
   "outputs": [],
   "source": [
    "train_dir = \"train\"\n",
    "test_dir = \"test\"  "
   ]
  },
  {
   "cell_type": "code",
   "execution_count": 3,
   "metadata": {},
   "outputs": [],
   "source": [
    "img_size = 48"
   ]
  },
  {
   "cell_type": "code",
   "execution_count": null,
   "metadata": {},
   "outputs": [],
   "source": [
    "\n",
    "# Data Augmentation\n",
    "# applied \n",
    "# rotation_range = rotates the image with the amount of degrees we provide\n",
    "# width_shift_range = shifts the image randomly to the right or left along the width of the image\n",
    "# height_shift range = shifts image randomly to up or below along the height of the image\n",
    "# horizontal_flip = flips the image horizontally\n",
    "# rescale = to scale down the pizel values in our image between 0 and 1\n",
    "# zoom_range = applies random zoom to our object\n",
    "# validation_split = reserves some images to be used for validation purpose\n"
   ]
  },
  {
   "cell_type": "code",
   "execution_count": 4,
   "metadata": {},
   "outputs": [],
   "source": [
    "train_datagen = ImageDataGenerator(#rotation_range = 180,\n",
    "                                         width_shift_range = 0.1,\n",
    "                                         height_shift_range = 0.1,\n",
    "                                         horizontal_flip = True,\n",
    "                                         rescale = 1./255,\n",
    "                                         #zoom_range = 0.2,\n",
    "                                         validation_split = 0.2\n",
    "                                        )\n",
    "validation_datagen = ImageDataGenerator(rescale = 1./255,\n",
    "                                         validation_split = 0.2)"
   ]
  },
  {
   "cell_type": "code",
   "execution_count": 5,
   "metadata": {},
   "outputs": [
    {
     "name": "stdout",
     "output_type": "stream",
     "text": [
      "Found 22968 images belonging to 7 classes.\n",
      "Found 1432 images belonging to 7 classes.\n"
     ]
    }
   ],
   "source": [
    "train_generator = train_datagen.flow_from_directory(directory = train_dir,\n",
    "                                                    target_size = (img_size,img_size),\n",
    "                                                    batch_size = 64,\n",
    "                                                    color_mode = \"grayscale\",\n",
    "                                                    class_mode = \"categorical\",\n",
    "                                                    subset = \"training\"\n",
    "                                                   )\n",
    "validation_generator = validation_datagen.flow_from_directory( directory = test_dir,\n",
    "                                                              target_size = (img_size,img_size),\n",
    "                                                              batch_size = 64,\n",
    "                                                              color_mode = \"grayscale\",\n",
    "                                                              class_mode = \"categorical\",\n",
    "                                                              subset = \"validation\"\n",
    "                                                             )"
   ]
  },
  {
   "cell_type": "code",
   "execution_count": 12,
   "metadata": {},
   "outputs": [
    {
     "name": "stderr",
     "output_type": "stream",
     "text": [
      "WARNING:absl:`lr` is deprecated in Keras optimizer, please use `learning_rate` or use the legacy optimizer, e.g.,tf.keras.optimizers.legacy.Adam.\n"
     ]
    }
   ],
   "source": [
    "model= tf.keras.models.Sequential()\n",
    "model.add(Conv2D(32, kernel_size=(3, 3), padding='same', activation='relu', input_shape=(48, 48,1)))\n",
    "model.add(Conv2D(64,(3,3), padding='same', activation='relu' ))\n",
    "model.add(BatchNormalization())\n",
    "model.add(MaxPool2D(pool_size=(2, 2)))\n",
    "model.add(Dropout(0.25))\n",
    "\n",
    "model.add(Conv2D(128,(5,5), padding='same', activation='relu'))\n",
    "model.add(BatchNormalization())\n",
    "model.add(MaxPool2D(pool_size=(2, 2)))\n",
    "model.add(Dropout(0.25))\n",
    "    \n",
    "model.add(Conv2D(512,(3,3), padding='same', activation='relu'))\n",
    "model.add(BatchNormalization())\n",
    "model.add(MaxPool2D(pool_size=(2, 2)))\n",
    "model.add(Dropout(0.25))\n",
    "\n",
    "model.add(Conv2D(512,(3,3), padding='same', activation='relu'))\n",
    "model.add(BatchNormalization())\n",
    "model.add(MaxPool2D(pool_size=(2, 2)))\n",
    "model.add(Dropout(0.25))\n",
    "\n",
    "model.add(Flatten()) \n",
    "model.add(Dense(256,activation = 'relu'))\n",
    "model.add(BatchNormalization())\n",
    "model.add(Dropout(0.25))\n",
    "    \n",
    "model.add(Dense(512,activation = 'relu'))\n",
    "model.add(BatchNormalization())\n",
    "model.add(Dropout(0.25))\n",
    "\n",
    "model.add(Dense(7, activation='softmax'))\n",
    "\n",
    "model.compile(\n",
    "    optimizer = Adam(lr=0.0001), \n",
    "    loss='categorical_crossentropy', \n",
    "    metrics=['accuracy']\n",
    "  )"
   ]
  },
  {
   "cell_type": "code",
   "execution_count": 13,
   "metadata": {},
   "outputs": [],
   "source": [
    "epochs = 50\n",
    "batch_size = 64"
   ]
  },
  {
   "cell_type": "code",
   "execution_count": 14,
   "metadata": {},
   "outputs": [
    {
     "name": "stdout",
     "output_type": "stream",
     "text": [
      "Model: \"sequential_1\"\n",
      "_________________________________________________________________\n",
      " Layer (type)                Output Shape              Param #   \n",
      "=================================================================\n",
      " conv2d_5 (Conv2D)           (None, 48, 48, 32)        320       \n",
      "                                                                 \n",
      " conv2d_6 (Conv2D)           (None, 48, 48, 64)        18496     \n",
      "                                                                 \n",
      " batch_normalization_6 (Bat  (None, 48, 48, 64)        256       \n",
      " chNormalization)                                                \n",
      "                                                                 \n",
      " max_pooling2d_4 (MaxPoolin  (None, 24, 24, 64)        0         \n",
      " g2D)                                                            \n",
      "                                                                 \n",
      " dropout_6 (Dropout)         (None, 24, 24, 64)        0         \n",
      "                                                                 \n",
      " conv2d_7 (Conv2D)           (None, 24, 24, 128)       204928    \n",
      "                                                                 \n",
      " batch_normalization_7 (Bat  (None, 24, 24, 128)       512       \n",
      " chNormalization)                                                \n",
      "                                                                 \n",
      " max_pooling2d_5 (MaxPoolin  (None, 12, 12, 128)       0         \n",
      " g2D)                                                            \n",
      "                                                                 \n",
      " dropout_7 (Dropout)         (None, 12, 12, 128)       0         \n",
      "                                                                 \n",
      " conv2d_8 (Conv2D)           (None, 12, 12, 512)       590336    \n",
      "                                                                 \n",
      " batch_normalization_8 (Bat  (None, 12, 12, 512)       2048      \n",
      " chNormalization)                                                \n",
      "                                                                 \n",
      " max_pooling2d_6 (MaxPoolin  (None, 6, 6, 512)         0         \n",
      " g2D)                                                            \n",
      "                                                                 \n",
      " dropout_8 (Dropout)         (None, 6, 6, 512)         0         \n",
      "                                                                 \n",
      " conv2d_9 (Conv2D)           (None, 6, 6, 512)         2359808   \n",
      "                                                                 \n",
      " batch_normalization_9 (Bat  (None, 6, 6, 512)         2048      \n",
      " chNormalization)                                                \n",
      "                                                                 \n",
      " max_pooling2d_7 (MaxPoolin  (None, 3, 3, 512)         0         \n",
      " g2D)                                                            \n",
      "                                                                 \n",
      " dropout_9 (Dropout)         (None, 3, 3, 512)         0         \n",
      "                                                                 \n",
      " flatten_1 (Flatten)         (None, 4608)              0         \n",
      "                                                                 \n",
      " dense_3 (Dense)             (None, 256)               1179904   \n",
      "                                                                 \n",
      " batch_normalization_10 (Ba  (None, 256)               1024      \n",
      " tchNormalization)                                               \n",
      "                                                                 \n",
      " dropout_10 (Dropout)        (None, 256)               0         \n",
      "                                                                 \n",
      " dense_4 (Dense)             (None, 512)               131584    \n",
      "                                                                 \n",
      " batch_normalization_11 (Ba  (None, 512)               2048      \n",
      " tchNormalization)                                               \n",
      "                                                                 \n",
      " dropout_11 (Dropout)        (None, 512)               0         \n",
      "                                                                 \n",
      " dense_5 (Dense)             (None, 7)                 3591      \n",
      "                                                                 \n",
      "=================================================================\n",
      "Total params: 4496903 (17.15 MB)\n",
      "Trainable params: 4492935 (17.14 MB)\n",
      "Non-trainable params: 3968 (15.50 KB)\n",
      "_________________________________________________________________\n"
     ]
    }
   ],
   "source": [
    "model.summary()"
   ]
  },
  {
   "cell_type": "code",
   "execution_count": 16,
   "metadata": {},
   "outputs": [],
   "source": [
    "from keras.callbacks import ReduceLROnPlateau\n",
    "rlrp = ReduceLROnPlateau(monitor='loss', factor=0.4, verbose=0, patience=2, min_lr=0.0000001)"
   ]
  },
  {
   "cell_type": "code",
   "execution_count": 17,
   "metadata": {},
   "outputs": [
    {
     "name": "stdout",
     "output_type": "stream",
     "text": [
      "Epoch 1/50\n",
      "359/359 [==============================] - 303s 844ms/step - loss: 1.7915 - accuracy: 0.3072 - val_loss: 1.7192 - val_accuracy: 0.3052 - lr: 0.0010\n",
      "Epoch 2/50\n",
      "359/359 [==============================] - 264s 735ms/step - loss: 1.5285 - accuracy: 0.4120 - val_loss: 1.4157 - val_accuracy: 0.4630 - lr: 0.0010\n",
      "Epoch 3/50\n",
      "359/359 [==============================] - 262s 729ms/step - loss: 1.3580 - accuracy: 0.4773 - val_loss: 1.2769 - val_accuracy: 0.5028 - lr: 0.0010\n",
      "Epoch 4/50\n",
      "359/359 [==============================] - 225s 626ms/step - loss: 1.2828 - accuracy: 0.5088 - val_loss: 1.2071 - val_accuracy: 0.5398 - lr: 0.0010\n",
      "Epoch 5/50\n",
      "359/359 [==============================] - 219s 611ms/step - loss: 1.2194 - accuracy: 0.5381 - val_loss: 1.1419 - val_accuracy: 0.5649 - lr: 0.0010\n",
      "Epoch 6/50\n",
      "359/359 [==============================] - 237s 659ms/step - loss: 1.1811 - accuracy: 0.5505 - val_loss: 1.1136 - val_accuracy: 0.5866 - lr: 0.0010\n",
      "Epoch 7/50\n",
      "359/359 [==============================] - 229s 638ms/step - loss: 1.1482 - accuracy: 0.5632 - val_loss: 1.0623 - val_accuracy: 0.6041 - lr: 0.0010\n",
      "Epoch 8/50\n",
      "359/359 [==============================] - 221s 615ms/step - loss: 1.1222 - accuracy: 0.5761 - val_loss: 1.1351 - val_accuracy: 0.5698 - lr: 0.0010\n",
      "Epoch 9/50\n",
      "359/359 [==============================] - 230s 640ms/step - loss: 1.0944 - accuracy: 0.5824 - val_loss: 1.0850 - val_accuracy: 0.6020 - lr: 0.0010\n",
      "Epoch 10/50\n",
      "359/359 [==============================] - 236s 656ms/step - loss: 1.0740 - accuracy: 0.5945 - val_loss: 1.0988 - val_accuracy: 0.5964 - lr: 0.0010\n",
      "Epoch 11/50\n",
      "359/359 [==============================] - 234s 652ms/step - loss: 1.0538 - accuracy: 0.6015 - val_loss: 1.0313 - val_accuracy: 0.6047 - lr: 0.0010\n",
      "Epoch 12/50\n",
      "359/359 [==============================] - 219s 611ms/step - loss: 1.0453 - accuracy: 0.6057 - val_loss: 1.0570 - val_accuracy: 0.6082 - lr: 0.0010\n",
      "Epoch 13/50\n",
      "359/359 [==============================] - 229s 637ms/step - loss: 1.0282 - accuracy: 0.6104 - val_loss: 0.9923 - val_accuracy: 0.6327 - lr: 0.0010\n",
      "Epoch 14/50\n",
      "359/359 [==============================] - 237s 660ms/step - loss: 1.0097 - accuracy: 0.6184 - val_loss: 0.9933 - val_accuracy: 0.6390 - lr: 0.0010\n",
      "Epoch 15/50\n",
      "359/359 [==============================] - 229s 639ms/step - loss: 0.9993 - accuracy: 0.6269 - val_loss: 0.9726 - val_accuracy: 0.6390 - lr: 0.0010\n",
      "Epoch 16/50\n",
      "359/359 [==============================] - 232s 646ms/step - loss: 0.9828 - accuracy: 0.6283 - val_loss: 0.9863 - val_accuracy: 0.6222 - lr: 0.0010\n",
      "Epoch 17/50\n",
      "359/359 [==============================] - 221s 616ms/step - loss: 0.9694 - accuracy: 0.6357 - val_loss: 0.9681 - val_accuracy: 0.6432 - lr: 0.0010\n",
      "Epoch 18/50\n",
      "359/359 [==============================] - 235s 655ms/step - loss: 0.9618 - accuracy: 0.6364 - val_loss: 0.9868 - val_accuracy: 0.6278 - lr: 0.0010\n",
      "Epoch 19/50\n",
      "359/359 [==============================] - 231s 645ms/step - loss: 0.9426 - accuracy: 0.6485 - val_loss: 0.9540 - val_accuracy: 0.6362 - lr: 0.0010\n",
      "Epoch 20/50\n",
      "359/359 [==============================] - 233s 649ms/step - loss: 0.9362 - accuracy: 0.6497 - val_loss: 0.9605 - val_accuracy: 0.6432 - lr: 0.0010\n",
      "Epoch 21/50\n",
      "359/359 [==============================] - 241s 670ms/step - loss: 0.9190 - accuracy: 0.6550 - val_loss: 0.9783 - val_accuracy: 0.6522 - lr: 0.0010\n",
      "Epoch 22/50\n",
      "359/359 [==============================] - 255s 711ms/step - loss: 0.9186 - accuracy: 0.6547 - val_loss: 0.9702 - val_accuracy: 0.6536 - lr: 0.0010\n",
      "Epoch 23/50\n",
      "359/359 [==============================] - 245s 681ms/step - loss: 0.8953 - accuracy: 0.6667 - val_loss: 0.9462 - val_accuracy: 0.6606 - lr: 0.0010\n",
      "Epoch 24/50\n",
      "359/359 [==============================] - 311s 866ms/step - loss: 0.8938 - accuracy: 0.6650 - val_loss: 0.9542 - val_accuracy: 0.6487 - lr: 0.0010\n",
      "Epoch 25/50\n",
      "359/359 [==============================] - 267s 743ms/step - loss: 0.8809 - accuracy: 0.6707 - val_loss: 0.9561 - val_accuracy: 0.6536 - lr: 0.0010\n",
      "Epoch 26/50\n",
      "359/359 [==============================] - 269s 749ms/step - loss: 0.8766 - accuracy: 0.6742 - val_loss: 0.9736 - val_accuracy: 0.6487 - lr: 0.0010\n",
      "Epoch 27/50\n",
      "359/359 [==============================] - 285s 794ms/step - loss: 0.8621 - accuracy: 0.6752 - val_loss: 0.9782 - val_accuracy: 0.6425 - lr: 0.0010\n",
      "Epoch 28/50\n",
      "359/359 [==============================] - 533s 1s/step - loss: 0.8564 - accuracy: 0.6786 - val_loss: 0.9131 - val_accuracy: 0.6774 - lr: 0.0010\n",
      "Epoch 29/50\n",
      "359/359 [==============================] - 381s 1s/step - loss: 0.8459 - accuracy: 0.6831 - val_loss: 0.9215 - val_accuracy: 0.6620 - lr: 0.0010\n",
      "Epoch 30/50\n",
      "359/359 [==============================] - 318s 886ms/step - loss: 0.8347 - accuracy: 0.6883 - val_loss: 0.9212 - val_accuracy: 0.6676 - lr: 0.0010\n",
      "Epoch 31/50\n",
      "359/359 [==============================] - 281s 782ms/step - loss: 0.8333 - accuracy: 0.6894 - val_loss: 0.9060 - val_accuracy: 0.6774 - lr: 0.0010\n",
      "Epoch 32/50\n",
      "359/359 [==============================] - 258s 718ms/step - loss: 0.8229 - accuracy: 0.6918 - val_loss: 0.9273 - val_accuracy: 0.6739 - lr: 0.0010\n",
      "Epoch 33/50\n",
      "359/359 [==============================] - 327s 911ms/step - loss: 0.8088 - accuracy: 0.6951 - val_loss: 0.9160 - val_accuracy: 0.6746 - lr: 0.0010\n",
      "Epoch 34/50\n",
      "359/359 [==============================] - 271s 755ms/step - loss: 0.7977 - accuracy: 0.7036 - val_loss: 0.9081 - val_accuracy: 0.6683 - lr: 0.0010\n",
      "Epoch 35/50\n",
      "359/359 [==============================] - 267s 743ms/step - loss: 0.7862 - accuracy: 0.7045 - val_loss: 0.9475 - val_accuracy: 0.6641 - lr: 0.0010\n",
      "Epoch 36/50\n",
      "359/359 [==============================] - 267s 743ms/step - loss: 0.7850 - accuracy: 0.7065 - val_loss: 0.9066 - val_accuracy: 0.6844 - lr: 0.0010\n",
      "Epoch 37/50\n",
      "359/359 [==============================] - 306s 852ms/step - loss: 0.7791 - accuracy: 0.7086 - val_loss: 1.0003 - val_accuracy: 0.6508 - lr: 0.0010\n",
      "Epoch 38/50\n",
      "359/359 [==============================] - 308s 859ms/step - loss: 0.7701 - accuracy: 0.7131 - val_loss: 0.9508 - val_accuracy: 0.6704 - lr: 0.0010\n",
      "Epoch 39/50\n",
      "359/359 [==============================] - 267s 743ms/step - loss: 0.7679 - accuracy: 0.7170 - val_loss: 0.9002 - val_accuracy: 0.6927 - lr: 0.0010\n",
      "Epoch 40/50\n",
      "359/359 [==============================] - 301s 838ms/step - loss: 0.7514 - accuracy: 0.7194 - val_loss: 0.9174 - val_accuracy: 0.6816 - lr: 0.0010\n",
      "Epoch 41/50\n",
      "359/359 [==============================] - 269s 748ms/step - loss: 0.7462 - accuracy: 0.7200 - val_loss: 0.9035 - val_accuracy: 0.6878 - lr: 0.0010\n",
      "Epoch 42/50\n",
      "359/359 [==============================] - 382s 1s/step - loss: 0.7425 - accuracy: 0.7217 - val_loss: 0.9326 - val_accuracy: 0.6697 - lr: 0.0010\n",
      "Epoch 43/50\n",
      "359/359 [==============================] - 294s 817ms/step - loss: 0.7333 - accuracy: 0.7272 - val_loss: 0.9043 - val_accuracy: 0.6795 - lr: 0.0010\n",
      "Epoch 44/50\n",
      "359/359 [==============================] - 292s 814ms/step - loss: 0.7212 - accuracy: 0.7310 - val_loss: 0.9338 - val_accuracy: 0.6648 - lr: 0.0010\n",
      "Epoch 45/50\n",
      "359/359 [==============================] - 343s 955ms/step - loss: 0.7258 - accuracy: 0.7301 - val_loss: 0.9301 - val_accuracy: 0.6823 - lr: 0.0010\n",
      "Epoch 46/50\n",
      "359/359 [==============================] - 329s 915ms/step - loss: 0.7014 - accuracy: 0.7401 - val_loss: 0.9205 - val_accuracy: 0.6788 - lr: 0.0010\n",
      "Epoch 47/50\n",
      "359/359 [==============================] - 340s 947ms/step - loss: 0.7045 - accuracy: 0.7353 - val_loss: 0.9753 - val_accuracy: 0.6676 - lr: 0.0010\n",
      "Epoch 48/50\n",
      "359/359 [==============================] - 241s 670ms/step - loss: 0.6948 - accuracy: 0.7436 - val_loss: 0.9262 - val_accuracy: 0.6865 - lr: 0.0010\n",
      "Epoch 49/50\n",
      "359/359 [==============================] - 294s 819ms/step - loss: 0.6908 - accuracy: 0.7447 - val_loss: 0.9845 - val_accuracy: 0.6781 - lr: 0.0010\n",
      "Epoch 50/50\n",
      "359/359 [==============================] - 278s 773ms/step - loss: 0.6850 - accuracy: 0.7463 - val_loss: 0.9392 - val_accuracy: 0.6830 - lr: 0.0010\n"
     ]
    }
   ],
   "source": [
    "history = model.fit(x = train_generator,epochs = epochs,validation_data = validation_generator,callbacks=[rlrp])"
   ]
  },
  {
   "cell_type": "code",
   "execution_count": 18,
   "metadata": {},
   "outputs": [
    {
     "data": {
      "image/png": "[encoded data removed]",
      "text/plain": [
       "<Figure size 1200x400 with 2 Axes>"
      ]
     },
     "metadata": {},
     "output_type": "display_data"
    }
   ],
   "source": [
    "fig , ax = plt.subplots(1,2)\n",
    "train_acc = history.history['accuracy']\n",
    "train_loss = history.history['loss']\n",
    "fig.set_size_inches(12,4)\n",
    "\n",
    "ax[0].plot(history.history['accuracy'])\n",
    "ax[0].plot(history.history['val_accuracy'])\n",
    "ax[0].set_title('Training Accuracy vs Validation Accuracy')\n",
    "ax[0].set_ylabel('Accuracy')\n",
    "ax[0].set_xlabel('Epoch')\n",
    "ax[0].legend(['Train', 'Validation'], loc='upper left')\n",
    "\n",
    "ax[1].plot(history.history['loss'])\n",
    "ax[1].plot(history.history['val_loss'])\n",
    "ax[1].set_title('Training Loss vs Validation Loss')\n",
    "ax[1].set_ylabel('Loss')\n",
    "ax[1].set_xlabel('Epoch')\n",
    "ax[1].legend(['Train', 'Validation'], loc='upper left')\n",
    "\n",
    "plt.show()"
   ]
  },
  {
   "cell_type": "code",
   "execution_count": 19,
   "metadata": {},
   "outputs": [],
   "source": [
    "model_json = model.to_json()\n",
    "with open(\"model_optimal.json\",\"w\") as json_file:\n",
    "    json_file.write(model_json)"
   ]
  },
  {
   "cell_type": "code",
   "execution_count": 23,
   "metadata": {},
   "outputs": [
    {
     "name": "stdout",
     "output_type": "stream",
     "text": [
      "359/359 [==============================] - 98s 274ms/step - loss: 0.5014 - accuracy: 0.8178\n",
      "23/23 [==============================] - 5s 207ms/step - loss: 0.9392 - accuracy: 0.6830\n",
      "final train accuracy = 81.78 , validation accuracy = 68.30\n"
     ]
    }
   ],
   "source": [
    "train_loss, train_acc = model.evaluate(train_generator)\n",
    "test_loss, test_acc   = model.evaluate(validation_generator)\n",
    "print(\"final train accuracy = {:.2f} , validation accuracy = {:.2f}\".format(train_acc*100, test_acc*100))"
   ]
  },
  {
   "cell_type": "code",
   "execution_count": 24,
   "metadata": {},
   "outputs": [],
   "source": [
    "model.save_weights('model_weights_optimal.h5')"
   ]
  },
  {
   "cell_type": "code",
   "execution_count": null,
   "metadata": {},
   "outputs": [],
   "source": []
  }
 ],
 "metadata": {
  "kernelspec": {
   "display_name": "Python 3",
   "language": "python",
   "name": "python3"
  },
  "language_info": {
   "codemirror_mode": {
    "name": "ipython",
    "version": 3
   },
   "file_extension": ".py",
   "mimetype": "text/x-python",
   "name": "python",
   "nbconvert_exporter": "python",
   "pygments_lexer": "ipython3",
   "version": "3.11.7"
  }
 },
 "nbformat": 4,
 "nbformat_minor": 2
}
